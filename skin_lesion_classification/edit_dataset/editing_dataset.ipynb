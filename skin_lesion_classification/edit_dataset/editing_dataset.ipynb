{
 "cells": [
  {
   "cell_type": "code",
   "execution_count": 3,
   "metadata": {},
   "outputs": [
    {
     "name": "stdout",
     "output_type": "stream",
     "text": [
      "Quantidade de dx = 0: 7919\n",
      "Quantidade de dx = 1: 1954\n"
     ]
    },
    {
     "data": {
      "text/plain": [
       "9873"
      ]
     },
     "execution_count": 3,
     "metadata": {},
     "output_type": "execute_result"
    }
   ],
   "source": [
    "import pandas as pd\n",
    "\n",
    "# Carregar o CSV\n",
    "df = pd.read_csv('/home/ashiley/HAM10000_metadata_alterado.csv')\n",
    "\n",
    "# Contar as ocorrências de dx = 0 e dx = 1\n",
    "count_dx_0 = df[df['dx'] == 0].shape[0]\n",
    "count_dx_1 = df[df['dx'] == 1].shape[0]\n",
    "\n",
    "# Imprimir os resultados\n",
    "print(f'Quantidade de dx = 0: {count_dx_0}')\n",
    "print(f'Quantidade de dx = 1: {count_dx_1}')\n",
    "\n",
    "soma = count_dx_0+count_dx_1 \n",
    "soma\n"
   ]
  },
  {
   "cell_type": "markdown",
   "metadata": {},
   "source": [
    "Em seguida, as tabelas de anotações foram modificadas para refletir a classificação binária. Lesões classificadas como \"blk\" (queratoses benignas), \"df\" (dermatofibromas) e \"nv\" (nevos melanocíticos) foram categorizadas como benignas. Por outro lado, lesões rotuladas como \"mel\" (melanomas), \"bcc\" (carcinomas basocelulares) e \"akiec\" (queratoses actínicas e carcinomas de células escamosas intraepidérmicos) foram consideradas malignas.\n"
   ]
  },
  {
   "cell_type": "code",
   "execution_count": 34,
   "metadata": {},
   "outputs": [
    {
     "name": "stdout",
     "output_type": "stream",
     "text": [
      "BENIGNOS\n",
      "bkl: 1099\n",
      "df: 115\n",
      "nv: 6705\n",
      "\n",
      "MALIGNOS\n",
      "mel: 1113\n",
      "bcc: 514\n",
      "akiec: 327\n",
      "vasc: 142\n",
      "\n",
      "Total de imagens: 10015\n",
      "Benignos: 7919\n",
      "Malignos: 1954\n"
     ]
    }
   ],
   "source": [
    "df = pd.read_csv('/home/ashiley/HAM10000_metadata.txt')\n",
    "\n",
    "bkl = df[df['dx'] == 'bkl'].shape[0]\n",
    "derma = df[df['dx'] == 'df'].shape[0]\n",
    "nv = df[df['dx'] == 'nv'].shape[0]\n",
    "\n",
    "mel = df[df['dx'] == 'mel'].shape[0]\n",
    "bcc = df[df['dx'] == 'bcc'].shape[0]\n",
    "akiec = df[df['dx'] == 'akiec'].shape[0]\n",
    "vasc = df[df['dx'] == 'vasc'].shape[0]\n",
    "\n",
    "# Imprimir os resultados\n",
    "print(f\"BENIGNOS\\nbkl: {bkl}\\ndf: {derma}\\nnv: {nv}\\n\\nMALIGNOS\\nmel: {mel}\\nbcc: {bcc}\\nakiec: {akiec}\\nvasc: {vasc}\")\n",
    "soma = bkl+derma+nv+mel+bcc+akiec+vasc\n",
    "somaben = bkl+derma+nv\n",
    "somamal = mel+bcc+akiec\n",
    "print(f\"\\nTotal de imagens: {soma}\\nBenignos: {somaben}\\nMalignos: {somamal}\")\n"
   ]
  }
 ],
 "metadata": {
  "kernelspec": {
   "display_name": "env",
   "language": "python",
   "name": "python3"
  },
  "language_info": {
   "codemirror_mode": {
    "name": "ipython",
    "version": 3
   },
   "file_extension": ".py",
   "mimetype": "text/x-python",
   "name": "python",
   "nbconvert_exporter": "python",
   "pygments_lexer": "ipython3",
   "version": "3.8.19"
  }
 },
 "nbformat": 4,
 "nbformat_minor": 2
}
