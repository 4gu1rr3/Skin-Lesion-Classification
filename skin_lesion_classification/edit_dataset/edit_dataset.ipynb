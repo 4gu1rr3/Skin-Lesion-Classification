{
 "cells": [
  {
   "cell_type": "code",
   "execution_count": 56,
   "metadata": {},
   "outputs": [],
   "source": [
    "\n",
    "import torch\n",
    "import torch.nn as nn\n",
    "import torch.nn.functional as F\n",
    "\n",
    "import pytorch_lightning\n",
    "import torchvision.models as models\n",
    "import torchvision.transforms as transforms\n",
    "from pytorch_lightning.loggers import TensorBoardLogger\n",
    "\n",
    "from torch.utils.data import DataLoader, Dataset, random_split\n",
    "from torchvision.datasets import ImageFolder\n",
    "from torchvision.utils import make_grid\n",
    "\n",
    "import pytorch_lightning as pl\n",
    "from efficientnet_pytorch import EfficientNet\n",
    "\n",
    "from PIL import Image\n",
    "import pandas as pd\n",
    "import os"
   ]
  },
  {
   "cell_type": "code",
   "execution_count": 57,
   "metadata": {},
   "outputs": [],
   "source": [
    "\n",
    "# Load CSV file and define paths\n",
    "csv_file = '/home/ashiley/HAM10000_metadata_alterado.csv'\n",
    "data_path_1 = '/home/ashiley/HAM10000_images_part_1'\n",
    "data_path_2 = '/home/ashiley/HAM10000_images_part_2'"
   ]
  },
  {
   "cell_type": "code",
   "execution_count": 61,
   "metadata": {},
   "outputs": [
    {
     "name": "stdout",
     "output_type": "stream",
     "text": [
      "9873\n",
      "9873\n",
      "9873\n",
      "9873\n",
      "CUDA is available and 2 CUDA device(s) is(are) available.\n"
     ]
    }
   ],
   "source": [
    "import os\n",
    "\n",
    "class CustomDataset(Dataset):\n",
    "    def __init__(self, csv_file, root_dir_1, root_dir_2, transform=None):\n",
    "        self.annotations = pd.read_csv(csv_file)\n",
    "        self.root_dir_1 = root_dir_1\n",
    "        self.root_dir_2 = root_dir_2\n",
    "        self.transform = transform\n",
    "        \n",
    "        # Create a list of all images in both directories\n",
    "        self.all_images = set(os.listdir(root_dir_1) + os.listdir(root_dir_2))\n",
    "\n",
    "        # Call a method to remove images not present in either directory\n",
    "        self.remove_unused_images()\n",
    "    \n",
    "    def __len__(self):\n",
    "        print(len(self.annotations))\n",
    "        return len(self.annotations)\n",
    "    \n",
    "    def __getitem__(self, idx):\n",
    "        img_name = self.annotations.iloc[idx, 1] + '.jpg'\n",
    "        img_path = os.path.join(self.root_dir_1 if img_name in self.all_images else self.root_dir_2, img_name)\n",
    "        image = Image.open(img_path).convert('RGB')\n",
    "        label = self.annotations.iloc[idx, 2]\n",
    "        label = torch.tensor(0) if label == 0 else torch.tensor(1)\n",
    "        if self.transform:\n",
    "            image = self.transform(image)\n",
    "        return image, label\n",
    "    \n",
    "    def remove_unused_images(self):\n",
    "        print(len(self.all_images))\n",
    "        # Remove images not present in either directory\n",
    "        for img_name in self.all_images:\n",
    "            img_name_shortened = img_name[:-4]  # Remove os últimos 4 caracteres ('.jpg')\n",
    "            if img_name_shortened not in self.annotations['image_id'].values:\n",
    "                for root_dir in [self.root_dir_1, self.root_dir_2]:\n",
    "                    img_path = os.path.join(root_dir, img_name)\n",
    "\n",
    "                    if os.path.exists(img_path):\n",
    "                        os.remove(img_path)\n",
    "                        print(f\"Image {img_name} not found in specified CSV. Removed from directory.\")\n",
    "        print(len(self.all_images))\n",
    "\n",
    "# Define transformations\n",
    "transform = transforms.Compose([\n",
    "    transforms.Resize((224, 224)),\n",
    "    transforms.ToTensor(),\n",
    "])\n",
    "\n",
    "\n",
    "# Create custom dataset instance\n",
    "custom_dataset = CustomDataset(csv_file=csv_file, root_dir_1=data_path_1, root_dir_2=data_path_2, transform=transform)\n",
    "\n",
    "# Cria um DataLoader para carregar os dados em lotes durante o treinamento.\n",
    "data_loader = DataLoader(custom_dataset, batch_size=32, shuffle=True)\n",
    "\n",
    "# Check if CUDA is available\n",
    "cuda_available = torch.cuda.is_available()\n",
    "\n",
    "if cuda_available:\n",
    "    # Get the number of available CUDA devices\n",
    "    num_cuda_devices = torch.cuda.device_count()\n",
    "    print(\"CUDA is available and {} CUDA device(s) is(are) available.\".format(num_cuda_devices))\n",
    "else:\n",
    "    print(\"CUDA is not available. You are running on CPU.\")\n",
    "\n",
    "# Move a tensor to the GPU if CUDA is available\n",
    "device = torch.device(\"cuda\" if torch.cuda.is_available() else \"cpu\")\n",
    "\n",
    "# Concatenate datasets\n",
    "full_dataset = custom_dataset  # Assuming you have already defined custom_dataset"
   ]
  }
 ],
 "metadata": {
  "kernelspec": {
   "display_name": "env",
   "language": "python",
   "name": "python3"
  },
  "language_info": {
   "codemirror_mode": {
    "name": "ipython",
    "version": 3
   },
   "file_extension": ".py",
   "mimetype": "text/x-python",
   "name": "python",
   "nbconvert_exporter": "python",
   "pygments_lexer": "ipython3",
   "version": "3.8.19"
  }
 },
 "nbformat": 4,
 "nbformat_minor": 2
}
